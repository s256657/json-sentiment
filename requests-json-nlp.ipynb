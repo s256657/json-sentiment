{
 "cells": [
  {
   "cell_type": "markdown",
   "metadata": {},
   "source": [
    "# Web Mining and Applied NLP (44-620)\n",
    "\n",
    "## Requests, JSON, and NLP\n",
    "\n",
    "### Student Name: Craig Wilcox\n",
    "\n",
    "### GitHub Repository: https://github.com/s256657/json-sentiment\n",
    "\n",
    "Perform the tasks described in the Markdown cells below.  When you have completed the assignment make sure your code cells have all been run (and have output beneath them) and ensure you have committed and pushed ALL of your changes to your assignment repository.\n",
    "\n",
    "Make sure you have [installed spaCy and its pipeline](https://spacy.io/usage#quickstart) and [spaCyTextBlob](https://spacy.io/universe/project/spacy-textblob)\n",
    "\n",
    "Every question that requires you to write code will have a code cell underneath it; you may either write your entire solution in that cell or write it in a python file (`.py`), then import and run the appropriate code to answer the question.\n",
    "\n",
    "This assignment requires that you write additional files (either JSON or pickle files); make sure to submit those files in your repository as well."
   ]
  },
  {
   "cell_type": "markdown",
   "metadata": {},
   "source": [
    "#### Prework import requirements"
   ]
  },
  {
   "cell_type": "code",
   "execution_count": 11,
   "metadata": {},
   "outputs": [
    {
     "name": "stdout",
     "output_type": "stream",
     "text": [
      "All prereqs installed.\n",
      "Package                 Version\n",
      "----------------------- -----------\n",
      "annotated-types         0.7.0\n",
      "appnope                 0.1.4\n",
      "asttokens               3.0.0\n",
      "blis                    1.3.0\n",
      "catalogue               2.0.10\n",
      "certifi                 2025.7.14\n",
      "charset-normalizer      3.4.2\n",
      "click                   8.2.1\n",
      "cloudpathlib            0.21.1\n",
      "comm                    0.2.2\n",
      "confection              0.1.5\n",
      "cymem                   2.0.11\n",
      "debugpy                 1.8.14\n",
      "decorator               5.2.1\n",
      "en_core_web_sm          3.8.0\n",
      "executing               2.2.0\n",
      "idna                    3.10\n",
      "ipykernel               6.29.5\n",
      "ipython                 9.4.0\n",
      "ipython_pygments_lexers 1.1.1\n",
      "jedi                    0.19.2\n",
      "Jinja2                  3.1.6\n",
      "joblib                  1.5.1\n",
      "jupyter_client          8.6.3\n",
      "jupyter_core            5.8.1\n",
      "langcodes               3.5.0\n",
      "language_data           1.3.0\n",
      "marisa-trie             1.2.1\n",
      "markdown-it-py          3.0.0\n",
      "MarkupSafe              3.0.2\n",
      "matplotlib-inline       0.1.7\n",
      "mdurl                   0.1.2\n",
      "murmurhash              1.0.13\n",
      "nest-asyncio            1.6.0\n",
      "nltk                    3.9.1\n",
      "numpy                   2.3.1\n",
      "packaging               25.0\n",
      "parso                   0.8.4\n",
      "pexpect                 4.9.0\n",
      "pip                     25.1.1\n",
      "platformdirs            4.3.8\n",
      "preshed                 3.0.10\n",
      "prompt_toolkit          3.0.51\n",
      "psutil                  7.0.0\n",
      "ptyprocess              0.7.0\n",
      "pure_eval               0.2.3\n",
      "pydantic                2.11.7\n",
      "pydantic_core           2.33.2\n",
      "Pygments                2.19.2\n",
      "python-dateutil         2.9.0.post0\n",
      "pyzmq                   27.0.0\n",
      "regex                   2024.11.6\n",
      "requests                2.32.4\n",
      "rich                    14.0.0\n",
      "setuptools              80.9.0\n",
      "shellingham             1.5.4\n",
      "six                     1.17.0\n",
      "smart_open              7.3.0.post1\n",
      "spacy                   3.8.7\n",
      "spacy-legacy            3.0.12\n",
      "spacy-loggers           1.0.5\n",
      "spacytextblob           5.0.0\n",
      "srsly                   2.5.1\n",
      "stack-data              0.6.3\n",
      "textblob                0.19.0\n",
      "thinc                   8.3.6\n",
      "tornado                 6.5.1\n",
      "tqdm                    4.67.1\n",
      "traitlets               5.14.3\n",
      "typer                   0.16.0\n",
      "typing_extensions       4.14.1\n",
      "typing-inspection       0.4.1\n",
      "urllib3                 2.5.0\n",
      "wasabi                  1.1.3\n",
      "wcwidth                 0.2.13\n",
      "weasel                  0.4.1\n",
      "wheel                   0.45.1\n",
      "wrapt                   1.17.2\n"
     ]
    }
   ],
   "source": [
    "# Create and activate a Python virtual environment. \n",
    "# Before starting the project, try all these imports FIRST\n",
    "# Address any errors you get running this code cell \n",
    "# by installing the necessary packages into your active Python environment.\n",
    "# Try to resolve issues using your materials and the web.\n",
    "# If that doesn't work, ask for help in the discussion forums.\n",
    "# You can't complete the exercises until you import these - start early! \n",
    "# We also import json and pickle (included in the Python Standard Library).\n",
    "\n",
    "import json\n",
    "import pickle\n",
    "\n",
    "import requests\n",
    "import spacy\n",
    "from spacytextblob.spacytextblob import SpacyTextBlob\n",
    "\n",
    "print('All prereqs installed.')\n",
    "!pip list"
   ]
  },
  {
   "cell_type": "code",
   "execution_count": 13,
   "metadata": {},
   "outputs": [
    {
     "name": "stdout",
     "output_type": "stream",
     "text": [
      "3.8.7\n",
      "5.0.0\n"
     ]
    }
   ],
   "source": [
    "# Version check to confirm spacy and spacyblob are working properly\n",
    "\n",
    "import spacy\n",
    "import spacytextblob\n",
    "\n",
    "print(spacy.__version__)\n",
    "print(spacytextblob.__version__)"
   ]
  },
  {
   "cell_type": "markdown",
   "metadata": {},
   "source": [
    "### 1. The following code accesses the [lyrics.ovh](https://lyricsovh.docs.apiary.io/#reference/0/lyrics-of-a-song/search) public api, searches for the lyrics of a song, and stores it in a dictionary object.  Write the resulting json to a file (either a JSON file or a pickle file; you choose). You will read in the contents of this file for future questions so we do not need to frequently access the API."
   ]
  },
  {
   "cell_type": "code",
   "execution_count": 18,
   "metadata": {},
   "outputs": [],
   "source": [
    "import requests\n",
    "import json\n",
    "\n",
    "result = json.loads(requests.get('https://api.lyrics.ovh/v1/They Might Be Giants/Birdhouse in your soul').text)"
   ]
  },
  {
   "cell_type": "markdown",
   "metadata": {},
   "source": [
    "### 2. Read in the contents of your file.  Print the lyrics of the song (not the entire dictionary!) and use spaCyTextBlob to perform sentiment analysis on the lyrics.  Print the polarity score of the sentiment analysis.  Given that the range of the polarity score is `[-1.0,1.0]` which corresponds to how positive or negative the text in question is, do you think the lyrics have a more positive or negative connotaion?  Answer this question in a comment in your code cell."
   ]
  },
  {
   "cell_type": "code",
   "execution_count": 28,
   "metadata": {},
   "outputs": [
    {
     "name": "stdout",
     "output_type": "stream",
     "text": [
      "Polarity score: 0.04505208333333333\n",
      "\n",
      "Lyrics preview:\n",
      " I'm your only friend \n",
      "I'm not your only friend \n",
      "But I'm a little glowing friend \n",
      "But really I'm not actually your friend \n",
      "But I am \n",
      "\n",
      "\n",
      "Blue canary in the outlet by the light switch \n",
      "\n",
      "Who watches over you \n",
      "\n",
      "Make a little birdhouse in your soul \n",
      "\n",
      "Not to put too fine a point on it \n",
      "\n",
      "Say I'm the only bee\n"
     ]
    }
   ],
   "source": [
    "import spacy\n",
    "from textblob import TextBlob\n",
    "from spacy.tokens import Doc\n",
    "\n",
    "# Step 1: Load lyrics from the result dictionary\n",
    "lyrics = result.get(\"lyrics\", \"\")\n",
    "\n",
    "# Step 2: Load spaCy model\n",
    "nlp = spacy.load(\"en_core_web_sm\")\n",
    "doc = nlp(lyrics)\n",
    "\n",
    "# Step 3: Manually calculate polarity using TextBlob\n",
    "blob = TextBlob(lyrics)\n",
    "polarity = blob.sentiment.polarity\n",
    "\n",
    "# Step 4: Manually register and set polarity extension\n",
    "if not Doc.has_extension(\"polarity\"):\n",
    "    Doc.set_extension(\"polarity\", default=None)\n",
    "\n",
    "doc._.polarity = polarity\n",
    "\n",
    "# Step 5: Print the result\n",
    "print(\"Polarity score:\", doc._.polarity)\n",
    "\n",
    "# Optional: Print lyrics preview\n",
    "print(\"\\nLyrics preview:\\n\", lyrics[:300])"
   ]
  },
  {
   "cell_type": "markdown",
   "metadata": {},
   "source": [
    "### 3. Write a function that takes an artist, song, and filename, accesses the lyrics.ovh api to get the song lyrics, and writes the results to the specified filename.  Test this function by getting the lyrics to any four songs of your choice and storing them in different files."
   ]
  },
  {
   "cell_type": "code",
   "execution_count": 17,
   "metadata": {},
   "outputs": [
    {
     "name": "stdout",
     "output_type": "stream",
     "text": [
      "Failed to fetch lyrics for 'Bohemian Rhapsody' by 'Queen'. Status code: 504\n",
      "Lyrics saved to hello_adele.json\n",
      "Lyrics saved to piano_man.json\n",
      "Lyrics saved to yellow_coldplay.json\n"
     ]
    }
   ],
   "source": [
    "import requests\n",
    "import json\n",
    "\n",
    "def save_lyrics_to_file(artist, song, filename):\n",
    "    \"\"\"\n",
    "    Fetches lyrics from lyrics.ovh API and writes to a JSON file.\n",
    "\n",
    "    Args:\n",
    "        artist (str): Artist name\n",
    "        song (str): Song title\n",
    "        filename (str): File path to save lyrics JSON\n",
    "    \"\"\"\n",
    "    url = f\"https://api.lyrics.ovh/v1/{artist}/{song}\"\n",
    "    response = requests.get(url)\n",
    "\n",
    "    if response.status_code == 200:\n",
    "        try:\n",
    "            data = response.json()\n",
    "            with open(filename, 'w', encoding='utf-8') as f:\n",
    "                json.dump(data, f, ensure_ascii=False, indent=4)\n",
    "            print(f\"Lyrics saved to {filename}\")\n",
    "        except json.JSONDecodeError:\n",
    "            print(\"Error: Response is not valid JSON.\")\n",
    "    else:\n",
    "        print(f\"Failed to fetch lyrics for '{song}' by '{artist}'. Status code: {response.status_code}\")\n",
    "\n",
    "# Test with 4 songs\n",
    "save_lyrics_to_file(\"Queen\", \"Bohemian Rhapsody\", \"bohemian_rhapsody.json\")\n",
    "save_lyrics_to_file(\"Adele\", \"Hello\", \"hello_adele.json\")\n",
    "save_lyrics_to_file(\"Billy Joel\", \"Piano Man\", \"piano_man.json\")\n",
    "save_lyrics_to_file(\"Coldplay\", \"Yellow\", \"yellow_coldplay.json\")"
   ]
  },
  {
   "cell_type": "markdown",
   "metadata": {},
   "source": [
    "4. Write a function that takes the name of a file that contains song lyrics, loads the file, performs sentiment analysis, and returns the polarity score.  Use this function to print the polarity scores (with the name of the song) of the three files you created in question 3.  Does the reported polarity match your understanding of the song's lyrics? Why or why not do you think that might be?  Answer the questions in either a comment in the code cell or a markdown cell under the code cell."
   ]
  },
  {
   "cell_type": "code",
   "execution_count": null,
   "metadata": {},
   "outputs": [],
   "source": []
  }
 ],
 "metadata": {
  "kernelspec": {
   "display_name": ".venv",
   "language": "python",
   "name": "python3"
  },
  "language_info": {
   "codemirror_mode": {
    "name": "ipython",
    "version": 3
   },
   "file_extension": ".py",
   "mimetype": "text/x-python",
   "name": "python",
   "nbconvert_exporter": "python",
   "pygments_lexer": "ipython3",
   "version": "3.13.1"
  }
 },
 "nbformat": 4,
 "nbformat_minor": 4
}
